{
 "cells": [
  {
   "cell_type": "code",
   "execution_count": 21,
   "metadata": {},
   "outputs": [
    {
     "data": {
      "image/png": "[encoded data removed]",
      "text/plain": [
       "<Figure size 432x288 with 1 Axes>"
      ]
     },
     "metadata": {
      "needs_background": "light"
     },
     "output_type": "display_data"
    },
    {
     "name": "stdout",
     "output_type": "stream",
     "text": [
      "['room 103', 'room 104', 'room 105']\n",
      "[0, 0, 0]\n",
      "3\n"
     ]
    }
   ],
   "source": [
    "from gpiozero import LED, Button\n",
    "from datetime import datetime\n",
    "import csv\n",
    "import pandas as pd\n",
    "import matplotlib.pyplot as plt\n",
    "\n",
    "x = []\n",
    "y = []\n",
    "occurence = 0\n",
    "\n",
    "\n",
    "with open('calls.csv') as File:  \n",
    "    plots = csv.reader(File, delimiter = ',')\n",
    "\n",
    "    for row in plots:\n",
    "        if (row[0] not in x):\n",
    "            x.append(row[0])\n",
    "        numberOfRooms = len(x)\n",
    "\n",
    "    for i in range(numberOfRooms):\n",
    "        for row in plots:\n",
    "            if(x[i] == row[0]):\n",
    "                occurence += 1\n",
    "        y.append(occurence)\n",
    "        occurence = 0 \n",
    "\n",
    "\n",
    "    plt.bar(x,y, width = 0.7, label=\"Number of calls\")\n",
    "    plt.xlabel('room')\n",
    "    plt.ylabel('number of calls')\n",
    "    plt.title('Number of calls per room')\n",
    "    plt.legend()\n",
    "    plt.show()\n",
    "\n",
    "    print(x)\n",
    "    print(y)\n",
    "    print(numberOfRooms)\n"
   ]
  }
 ],
 "metadata": {
  "interpreter": {
   "hash": "767d51c1340bd893661ea55ea3124f6de3c7a262a8b4abca0554b478b1e2ff90"
  },
  "kernelspec": {
   "display_name": "Python 2.7.16 32-bit",
   "language": "python",
   "name": "python3"
  },
  "language_info": {
   "codemirror_mode": {
    "name": "ipython",
    "version": 2
   },
   "file_extension": ".py",
   "mimetype": "text/x-python",
   "name": "python",
   "nbconvert_exporter": "python",
   "pygments_lexer": "ipython2",
   "version": "2.7.16"
  },
  "orig_nbformat": 4
 },
 "nbformat": 4,
 "nbformat_minor": 2
}
